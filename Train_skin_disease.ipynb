{
 "cells": [
  {
   "cell_type": "code",
   "execution_count": 1,
   "id": "c4b7fcb5-700e-4a5b-a1e3-e8465a84489a",
   "metadata": {},
   "outputs": [],
   "source": [
    "    import tensorflow as tf\n",
    "    import matplotlib.pyplot as plt\n",
    "    import pandas as pd\n",
    "    import seaborn as sns"
   ]
  },
  {
   "cell_type": "code",
   "execution_count": 2,
   "id": "a8f8b056-e0cc-46dd-a7bc-290bc4d42bcd",
   "metadata": {},
   "outputs": [
    {
     "name": "stdout",
     "output_type": "stream",
     "text": [
      "Found 30909 files belonging to 6 classes.\n"
     ]
    }
   ],
   "source": [
    "## Data Preprocessing\n",
    "## Training Image preprocessing\n",
    "training_set = tf.keras.utils.image_dataset_from_directory(\n",
    "    'train',\n",
    "    labels=\"inferred\",\n",
    "    label_mode=\"categorical\",\n",
    "    class_names=None,\n",
    "    color_mode=\"rgb\",\n",
    "    batch_size=32,\n",
    "    image_size=(128, 128),\n",
    "    shuffle=True,\n",
    "    seed=None,\n",
    "    validation_split=None,\n",
    "    subset=None,\n",
    "    interpolation=\"bilinear\",\n",
    "    follow_links=False,\n",
    "    crop_to_aspect_ratio=False,\n",
    "    pad_to_aspect_ratio=False,\n",
    "    data_format=None,\n",
    "    verbose=True,\n",
    ")\n"
   ]
  },
  {
   "cell_type": "code",
   "execution_count": 3,
   "id": "fdd1db07-07c9-4571-a564-e9354a5bac99",
   "metadata": {},
   "outputs": [
    {
     "name": "stdout",
     "output_type": "stream",
     "text": [
      "Found 3923 files belonging to 6 classes.\n"
     ]
    }
   ],
   "source": [
    "## Validation Preprocessing\n",
    "\n",
    "validation_set = tf.keras.utils.image_dataset_from_directory(\n",
    "    'val',\n",
    "    labels=\"inferred\",\n",
    "    label_mode=\"categorical\",\n",
    "    class_names=None,\n",
    "    color_mode=\"rgb\",\n",
    "    batch_size=32,\n",
    "    image_size=(128, 128),\n",
    "    shuffle=True,\n",
    "    seed=None,\n",
    "    validation_split=None,\n",
    "    subset=None,\n",
    "    interpolation=\"bilinear\",\n",
    "    follow_links=False,\n",
    "    crop_to_aspect_ratio=False,\n",
    "    pad_to_aspect_ratio=False,\n",
    "    data_format=None,\n",
    "    verbose=True,\n",
    ")\n"
   ]
  },
  {
   "cell_type": "code",
   "execution_count": 4,
   "id": "d1de7f14-0065-4b82-927a-b42f3d5d26bd",
   "metadata": {},
   "outputs": [
    {
     "data": {
      "text/plain": [
       "<_PrefetchDataset element_spec=(TensorSpec(shape=(None, 128, 128, 3), dtype=tf.float32, name=None), TensorSpec(shape=(None, 6), dtype=tf.float32, name=None))>"
      ]
     },
     "execution_count": 4,
     "metadata": {},
     "output_type": "execute_result"
    }
   ],
   "source": [
    "training_set"
   ]
  },
  {
   "cell_type": "code",
   "execution_count": 5,
   "id": "f4d3da39-71bf-4cf4-8f5b-08459740da24",
   "metadata": {},
   "outputs": [
    {
     "name": "stdout",
     "output_type": "stream",
     "text": [
      "tf.Tensor(\n",
      "[[[[1.56750000e+02 1.15750000e+02 1.03750000e+02]\n",
      "   [1.60000000e+02 1.16500000e+02 1.02000000e+02]\n",
      "   [1.64250000e+02 1.22250000e+02 1.04750000e+02]\n",
      "   ...\n",
      "   [1.72250000e+02 1.27750000e+02 1.20250000e+02]\n",
      "   [1.70000000e+02 1.24500000e+02 1.15000000e+02]\n",
      "   [1.62500000e+02 1.16250000e+02 1.11000000e+02]]\n",
      "\n",
      "  [[1.60500000e+02 1.18500000e+02 1.06500000e+02]\n",
      "   [1.63250000e+02 1.20750000e+02 1.07000000e+02]\n",
      "   [1.68250000e+02 1.26750000e+02 1.09000000e+02]\n",
      "   ...\n",
      "   [1.72000000e+02 1.28000000e+02 1.22000000e+02]\n",
      "   [1.69250000e+02 1.25250000e+02 1.16250000e+02]\n",
      "   [1.66750000e+02 1.22250000e+02 1.16500000e+02]]\n",
      "\n",
      "  [[1.62750000e+02 1.20750000e+02 1.08750000e+02]\n",
      "   [1.66750000e+02 1.24750000e+02 1.11750000e+02]\n",
      "   [1.66750000e+02 1.27000000e+02 1.09000000e+02]\n",
      "   ...\n",
      "   [1.74500000e+02 1.31000000e+02 1.24750000e+02]\n",
      "   [1.71000000e+02 1.27500000e+02 1.20750000e+02]\n",
      "   [1.72000000e+02 1.29000000e+02 1.22750000e+02]]\n",
      "\n",
      "  ...\n",
      "\n",
      "  [[1.55000000e+02 1.12000000e+02 9.35000000e+01]\n",
      "   [1.59750000e+02 1.16750000e+02 9.97500000e+01]\n",
      "   [1.63750000e+02 1.18750000e+02 9.97500000e+01]\n",
      "   ...\n",
      "   [1.78750000e+02 1.36750000e+02 1.30250000e+02]\n",
      "   [1.39000000e+02 9.65000000e+01 7.90000000e+01]\n",
      "   [1.59500000e+02 1.16500000e+02 9.95000000e+01]]\n",
      "\n",
      "  [[1.53250000e+02 1.10250000e+02 9.22500000e+01]\n",
      "   [1.59500000e+02 1.16500000e+02 1.00250000e+02]\n",
      "   [1.63500000e+02 1.17750000e+02 1.01000000e+02]\n",
      "   ...\n",
      "   [1.76250000e+02 1.34500000e+02 1.26500000e+02]\n",
      "   [1.58250000e+02 1.16750000e+02 9.85000000e+01]\n",
      "   [1.41750000e+02 9.92500000e+01 8.35000000e+01]]\n",
      "\n",
      "  [[1.51000000e+02 1.08000000e+02 9.00000000e+01]\n",
      "   [1.55250000e+02 1.11250000e+02 9.82500000e+01]\n",
      "   [1.62750000e+02 1.16750000e+02 1.01500000e+02]\n",
      "   ...\n",
      "   [1.63750000e+02 1.21750000e+02 1.06750000e+02]\n",
      "   [1.76750000e+02 1.34250000e+02 1.23750000e+02]\n",
      "   [1.73250000e+02 1.31000000e+02 1.19750000e+02]]]\n",
      "\n",
      "\n",
      " [[[1.24843750e+02 1.02843750e+02 7.98437500e+01]\n",
      "   [1.24250000e+02 9.92500000e+01 7.72500000e+01]\n",
      "   [1.20109375e+02 9.41093750e+01 7.11093750e+01]\n",
      "   ...\n",
      "   [1.44375000e+02 1.05726562e+02 8.83515625e+01]\n",
      "   [1.33140625e+02 9.11406250e+01 7.59687500e+01]\n",
      "   [1.43695312e+02 9.96953125e+01 8.86953125e+01]]\n",
      "\n",
      "  [[1.16476562e+02 9.44765625e+01 7.34765625e+01]\n",
      "   [1.13312500e+02 8.83125000e+01 6.63281250e+01]\n",
      "   [1.12679688e+02 8.61718750e+01 6.41875000e+01]\n",
      "   ...\n",
      "   [1.34312500e+02 9.43125000e+01 8.45625000e+01]\n",
      "   [1.47062500e+02 1.04945312e+02 9.32968750e+01]\n",
      "   [1.37468750e+02 9.34687500e+01 8.07187500e+01]]\n",
      "\n",
      "  [[1.30351562e+02 1.08351562e+02 8.73515625e+01]\n",
      "   [1.15625000e+02 9.06250000e+01 7.06250000e+01]\n",
      "   [1.16453125e+02 8.94531250e+01 6.84531250e+01]\n",
      "   ...\n",
      "   [1.39039062e+02 9.90390625e+01 9.10390625e+01]\n",
      "   [1.27585938e+02 8.45859375e+01 7.55859375e+01]\n",
      "   [1.31109375e+02 8.71093750e+01 7.61093750e+01]]\n",
      "\n",
      "  ...\n",
      "\n",
      "  [[3.53984375e+01 2.83984375e+01 1.85703125e+01]\n",
      "   [4.68203125e+01 3.78203125e+01 3.08203125e+01]\n",
      "   [6.62187500e+01 5.52187500e+01 5.12187500e+01]\n",
      "   ...\n",
      "   [1.36937500e+02 9.99375000e+01 8.39375000e+01]\n",
      "   [1.43718750e+02 1.05718750e+02 9.27187500e+01]\n",
      "   [1.38015625e+02 1.02015625e+02 8.80156250e+01]]\n",
      "\n",
      "  [[3.24296875e+01 2.91796875e+01 2.40546875e+01]\n",
      "   [3.53593750e+01 3.01093750e+01 2.58593750e+01]\n",
      "   [7.16093750e+01 6.34843750e+01 6.02343750e+01]\n",
      "   ...\n",
      "   [1.53687500e+02 1.15687500e+02 1.02687500e+02]\n",
      "   [1.45312500e+02 1.09078125e+02 9.69453125e+01]\n",
      "   [1.45273438e+02 1.09273438e+02 9.72734375e+01]]\n",
      "\n",
      "  [[2.49765625e+01 2.28515625e+01 2.04765625e+01]\n",
      "   [3.89765625e+01 3.49765625e+01 3.19765625e+01]\n",
      "   [2.34218750e+01 1.90468750e+01 1.60468750e+01]\n",
      "   ...\n",
      "   [1.48718750e+02 1.11265625e+02 9.99921875e+01]\n",
      "   [1.38945312e+02 1.02906250e+02 9.10234375e+01]\n",
      "   [1.59476562e+02 1.25476562e+02 1.15476562e+02]]]\n",
      "\n",
      "\n",
      " [[[4.19902344e+01 3.47626953e+01 4.93310547e+01]\n",
      "   [5.18671875e+01 4.95156250e+01 6.16733398e+01]\n",
      "   [1.19748047e+02 1.11456055e+02 1.45668945e+02]\n",
      "   ...\n",
      "   [1.29368652e+02 7.39882812e+01 1.09626465e+02]\n",
      "   [1.91898926e+02 1.30412598e+02 1.76048828e+02]\n",
      "   [1.80053223e+02 1.28334473e+02 1.62357910e+02]]\n",
      "\n",
      "  [[1.05881348e+02 1.01661133e+02 1.34628906e+02]\n",
      "   [4.10087891e+01 3.09584961e+01 5.46787109e+01]\n",
      "   [9.69541016e+01 9.08925781e+01 1.29169434e+02]\n",
      "   ...\n",
      "   [1.66397461e+02 1.01834961e+02 1.35208984e+02]\n",
      "   [1.78259766e+02 1.20244141e+02 1.58177246e+02]\n",
      "   [1.52939453e+02 9.19394531e+01 1.24348633e+02]]\n",
      "\n",
      "  [[5.03955078e+01 4.82915039e+01 8.31035156e+01]\n",
      "   [1.43876953e+01 8.62792969e+00 2.09960938e+01]\n",
      "   [5.13276367e+01 5.07729492e+01 6.06503906e+01]\n",
      "   ...\n",
      "   [1.73200195e+02 1.15590820e+02 1.54774902e+02]\n",
      "   [1.67829590e+02 1.16587402e+02 1.57103027e+02]\n",
      "   [1.69013184e+02 1.11153809e+02 1.49057617e+02]]\n",
      "\n",
      "  ...\n",
      "\n",
      "  [[1.22841797e+01 7.28417969e+00 4.28417969e+00]\n",
      "   [1.32343750e+01 8.52392578e+00 1.16250000e+01]\n",
      "   [1.06708984e+01 5.42871094e+00 1.09443359e+01]\n",
      "   ...\n",
      "   [6.70590820e+01 7.32431641e+01 8.97153320e+01]\n",
      "   [1.56103516e+00 1.21093750e+00 9.47363281e+00]\n",
      "   [1.38334961e+01 7.10693359e+00 8.72412109e+00]]\n",
      "\n",
      "  [[9.69677734e+00 5.64208984e+00 2.64208984e+00]\n",
      "   [1.21250000e+01 8.12500000e+00 7.12500000e+00]\n",
      "   [1.57265625e+01 1.16171875e+01 1.27812500e+01]\n",
      "   ...\n",
      "   [1.07734375e+01 1.09531250e+01 1.57563477e+01]\n",
      "   [1.27055664e+01 7.75683594e+00 4.69433594e+00]\n",
      "   [1.26499023e+01 7.64990234e+00 3.70458984e+00]]\n",
      "\n",
      "  [[1.01147461e+01 8.06005859e+00 4.41162109e+00]\n",
      "   [1.12060547e+01 5.87646484e+00 3.86523438e+00]\n",
      "   [1.02607422e+01 8.20605469e+00 6.95312500e+00]\n",
      "   ...\n",
      "   [1.25166016e+01 4.90722656e+00 8.98925781e-01]\n",
      "   [1.30400391e+01 5.21630859e+00 9.12109375e+00]\n",
      "   [9.66406250e+00 3.90576172e+00 3.58593750e+00]]]\n",
      "\n",
      "\n",
      " ...\n",
      "\n",
      "\n",
      " [[[1.89062500e+00 3.78125000e+00 9.45312500e-01]\n",
      "   [1.80468750e+00 1.64062500e+00 9.84375000e-01]\n",
      "   [1.64687500e+01 1.43750000e+01 1.03750000e+01]\n",
      "   ...\n",
      "   [6.08281250e+01 4.81875000e+01 4.16406250e+01]\n",
      "   [4.27890625e+01 3.68046875e+01 3.08046875e+01]\n",
      "   [1.92031250e+01 1.60937500e+01 1.10390625e+01]]\n",
      "\n",
      "  [[1.89062500e+00 3.78125000e+00 9.45312500e-01]\n",
      "   [1.80468750e+00 1.64062500e+00 9.84375000e-01]\n",
      "   [1.64687500e+01 1.43750000e+01 1.03750000e+01]\n",
      "   ...\n",
      "   [6.08281250e+01 4.81875000e+01 4.16406250e+01]\n",
      "   [4.27890625e+01 3.68046875e+01 3.08046875e+01]\n",
      "   [1.92031250e+01 1.60937500e+01 1.10390625e+01]]\n",
      "\n",
      "  [[1.89062500e+00 3.78125000e+00 9.45312500e-01]\n",
      "   [1.85083008e+00 1.68676758e+00 1.03051758e+00]\n",
      "   [1.68269043e+01 1.47331543e+01 1.07331543e+01]\n",
      "   ...\n",
      "   [6.16213379e+01 4.89807129e+01 4.24338379e+01]\n",
      "   [4.28813477e+01 3.64267578e+01 3.04267578e+01]\n",
      "   [1.86713867e+01 1.49995117e+01 1.02106934e+01]]\n",
      "\n",
      "  ...\n",
      "\n",
      "  [[1.35888672e+00 3.79638672e+00 1.79443359e-01]\n",
      "   [7.58813477e+00 9.78979492e+00 3.18896484e+00]\n",
      "   [7.91528320e+00 8.91528320e+00 2.91528320e+00]\n",
      "   ...\n",
      "   [4.89453125e+01 3.41015625e+01 2.53828125e+01]\n",
      "   [7.29680176e+01 5.87250977e+01 5.00063477e+01]\n",
      "   [7.15810547e+01 5.74560547e+01 4.87373047e+01]]\n",
      "\n",
      "  [[1.32812500e+00 4.32812500e+00 1.64062500e-01]\n",
      "   [7.16406250e+00 9.83593750e+00 3.00000000e+00]\n",
      "   [8.27343750e+00 9.27343750e+00 3.27343750e+00]\n",
      "   ...\n",
      "   [4.78203125e+01 3.38203125e+01 2.48203125e+01]\n",
      "   [7.20781250e+01 5.89140625e+01 4.99140625e+01]\n",
      "   [6.75468750e+01 5.45468750e+01 4.55468750e+01]]\n",
      "\n",
      "  [[1.32812500e+00 4.32812500e+00 1.64062500e-01]\n",
      "   [7.16406250e+00 9.83593750e+00 3.00000000e+00]\n",
      "   [8.27343750e+00 9.27343750e+00 3.27343750e+00]\n",
      "   ...\n",
      "   [4.78203125e+01 3.38203125e+01 2.48203125e+01]\n",
      "   [7.20781250e+01 5.89140625e+01 4.99140625e+01]\n",
      "   [6.75468750e+01 5.45468750e+01 4.55468750e+01]]]\n",
      "\n",
      "\n",
      " [[[1.51105469e+02 1.28105469e+02 1.21417969e+02]\n",
      "   [1.60464844e+02 1.36589844e+02 1.26527344e+02]\n",
      "   [1.42812500e+02 1.17843750e+02 1.02500000e+02]\n",
      "   ...\n",
      "   [1.50304688e+02 1.28304688e+02 1.17304688e+02]\n",
      "   [1.47582031e+02 1.25582031e+02 1.12582031e+02]\n",
      "   [1.40396484e+02 1.18396484e+02 1.04396484e+02]]\n",
      "\n",
      "  [[1.46789062e+02 1.22789062e+02 1.12726562e+02]\n",
      "   [1.42785156e+02 1.20664062e+02 1.07845703e+02]\n",
      "   [1.61564453e+02 1.39626953e+02 1.26689453e+02]\n",
      "   ...\n",
      "   [1.38878906e+02 1.16878906e+02 1.05878906e+02]\n",
      "   [1.52664062e+02 1.30664062e+02 1.17664062e+02]\n",
      "   [1.49800781e+02 1.27800781e+02 1.13800781e+02]]\n",
      "\n",
      "  [[1.52425781e+02 1.28425781e+02 1.16425781e+02]\n",
      "   [1.40427734e+02 1.18427734e+02 1.04427734e+02]\n",
      "   [1.45908203e+02 1.25908203e+02 1.16033203e+02]\n",
      "   ...\n",
      "   [1.47382812e+02 1.23382812e+02 1.13382812e+02]\n",
      "   [1.36484375e+02 1.12484375e+02 1.00484375e+02]\n",
      "   [1.45718750e+02 1.22718750e+02 1.08718750e+02]]\n",
      "\n",
      "  ...\n",
      "\n",
      "  [[1.48619141e+02 1.25619141e+02 1.19619141e+02]\n",
      "   [1.61951172e+02 1.38951172e+02 1.32951172e+02]\n",
      "   [1.52650391e+02 1.29650391e+02 1.23650391e+02]\n",
      "   ...\n",
      "   [1.45343750e+02 1.25343750e+02 1.15468750e+02]\n",
      "   [1.44691406e+02 1.26691406e+02 1.14691406e+02]\n",
      "   [1.50785156e+02 1.32785156e+02 1.19347656e+02]]\n",
      "\n",
      "  [[1.59875000e+02 1.38875000e+02 1.33875000e+02]\n",
      "   [1.52853516e+02 1.29128906e+02 1.25037109e+02]\n",
      "   [1.51044922e+02 1.27044922e+02 1.23044922e+02]\n",
      "   ...\n",
      "   [1.58394531e+02 1.38394531e+02 1.27394531e+02]\n",
      "   [1.39494141e+02 1.19494141e+02 1.10494141e+02]\n",
      "   [1.43691406e+02 1.23691406e+02 1.16691406e+02]]\n",
      "\n",
      "  [[1.56910156e+02 1.35910156e+02 1.30910156e+02]\n",
      "   [1.50322266e+02 1.26386719e+02 1.22365234e+02]\n",
      "   [1.52193359e+02 1.27824219e+02 1.23824219e+02]\n",
      "   ...\n",
      "   [1.52011719e+02 1.32011719e+02 1.21011719e+02]\n",
      "   [1.54234375e+02 1.34234375e+02 1.25234375e+02]\n",
      "   [1.54291016e+02 1.34291016e+02 1.27291016e+02]]]\n",
      "\n",
      "\n",
      " [[[1.56750000e+02 1.08250000e+02 9.65000000e+01]\n",
      "   [1.56000000e+02 1.06000000e+02 9.55000000e+01]\n",
      "   [1.57000000e+02 1.08250000e+02 9.37500000e+01]\n",
      "   ...\n",
      "   [1.72250000e+02 1.25250000e+02 1.06250000e+02]\n",
      "   [1.68750000e+02 1.20750000e+02 1.07750000e+02]\n",
      "   [1.71750000e+02 1.24750000e+02 1.09000000e+02]]\n",
      "\n",
      "  [[1.55500000e+02 1.07750000e+02 9.77500000e+01]\n",
      "   [1.61000000e+02 1.12000000e+02 1.01500000e+02]\n",
      "   [1.59750000e+02 1.10750000e+02 9.57500000e+01]\n",
      "   ...\n",
      "   [1.75750000e+02 1.28500000e+02 1.12500000e+02]\n",
      "   [1.74500000e+02 1.26500000e+02 1.12750000e+02]\n",
      "   [1.72750000e+02 1.25250000e+02 1.11250000e+02]]\n",
      "\n",
      "  [[1.62250000e+02 1.14250000e+02 1.02250000e+02]\n",
      "   [1.59250000e+02 1.10250000e+02 9.75000000e+01]\n",
      "   [1.61750000e+02 1.12250000e+02 9.57500000e+01]\n",
      "   ...\n",
      "   [1.78750000e+02 1.30250000e+02 1.16500000e+02]\n",
      "   [1.72250000e+02 1.23250000e+02 1.07750000e+02]\n",
      "   [1.74500000e+02 1.25750000e+02 1.11750000e+02]]\n",
      "\n",
      "  ...\n",
      "\n",
      "  [[1.64000000e+02 1.19500000e+02 1.04000000e+02]\n",
      "   [1.65500000e+02 1.19500000e+02 1.04500000e+02]\n",
      "   [1.64750000e+02 1.18750000e+02 1.03500000e+02]\n",
      "   ...\n",
      "   [1.78000000e+02 1.27250000e+02 1.11500000e+02]\n",
      "   [1.78250000e+02 1.27250000e+02 1.09750000e+02]\n",
      "   [1.76750000e+02 1.27000000e+02 1.12000000e+02]]\n",
      "\n",
      "  [[1.61000000e+02 1.17500000e+02 1.03000000e+02]\n",
      "   [1.66000000e+02 1.20750000e+02 1.06000000e+02]\n",
      "   [1.64500000e+02 1.18500000e+02 1.03250000e+02]\n",
      "   ...\n",
      "   [1.75750000e+02 1.24500000e+02 1.10750000e+02]\n",
      "   [1.72500000e+02 1.22250000e+02 1.07250000e+02]\n",
      "   [1.81250000e+02 1.30750000e+02 1.17250000e+02]]\n",
      "\n",
      "  [[1.60250000e+02 1.14000000e+02 1.04250000e+02]\n",
      "   [1.64000000e+02 1.18000000e+02 1.05000000e+02]\n",
      "   [1.66250000e+02 1.19250000e+02 1.04000000e+02]\n",
      "   ...\n",
      "   [1.72500000e+02 1.22000000e+02 1.08000000e+02]\n",
      "   [1.82250000e+02 1.32250000e+02 1.21750000e+02]\n",
      "   [1.72500000e+02 1.24000000e+02 1.10000000e+02]]]], shape=(32, 128, 128, 3), dtype=float32) (32, 128, 128, 3)\n",
      "tf.Tensor(\n",
      "[[0. 0. 0. 0. 1. 0.]\n",
      " [0. 1. 0. 0. 0. 0.]\n",
      " [0. 1. 0. 0. 0. 0.]\n",
      " [1. 0. 0. 0. 0. 0.]\n",
      " [0. 1. 0. 0. 0. 0.]\n",
      " [0. 0. 0. 1. 0. 0.]\n",
      " [0. 0. 0. 0. 1. 0.]\n",
      " [0. 1. 0. 0. 0. 0.]\n",
      " [1. 0. 0. 0. 0. 0.]\n",
      " [1. 0. 0. 0. 0. 0.]\n",
      " [0. 1. 0. 0. 0. 0.]\n",
      " [0. 0. 0. 1. 0. 0.]\n",
      " [0. 0. 0. 0. 1. 0.]\n",
      " [0. 0. 1. 0. 0. 0.]\n",
      " [0. 1. 0. 0. 0. 0.]\n",
      " [0. 0. 1. 0. 0. 0.]\n",
      " [0. 0. 1. 0. 0. 0.]\n",
      " [0. 0. 1. 0. 0. 0.]\n",
      " [0. 1. 0. 0. 0. 0.]\n",
      " [0. 1. 0. 0. 0. 0.]\n",
      " [0. 0. 1. 0. 0. 0.]\n",
      " [0. 0. 0. 0. 1. 0.]\n",
      " [0. 0. 0. 0. 0. 1.]\n",
      " [0. 0. 0. 0. 1. 0.]\n",
      " [0. 0. 0. 1. 0. 0.]\n",
      " [0. 1. 0. 0. 0. 0.]\n",
      " [0. 0. 0. 1. 0. 0.]\n",
      " [0. 1. 0. 0. 0. 0.]\n",
      " [0. 1. 0. 0. 0. 0.]\n",
      " [0. 0. 0. 0. 0. 1.]\n",
      " [0. 0. 1. 0. 0. 0.]\n",
      " [0. 0. 0. 0. 1. 0.]], shape=(32, 6), dtype=float32) (32, 6)\n"
     ]
    }
   ],
   "source": [
    "for x,y in training_set:\n",
    "    print(x,x.shape)\n",
    "    print(y,y.shape)\n",
    "    break"
   ]
  },
  {
   "cell_type": "code",
   "execution_count": 6,
   "id": "14319974-710e-4269-8fc7-a67a61cbd960",
   "metadata": {},
   "outputs": [],
   "source": [
    "## Building Model\n",
    "from tensorflow.keras.layers import Dense,Conv2D,MaxPool2D,Flatten, Dropout\n",
    "from tensorflow.keras.models import Sequential"
   ]
  },
  {
   "cell_type": "code",
   "execution_count": 7,
   "id": "646d9d26-5a91-4621-80b9-8ce5d783dc49",
   "metadata": {},
   "outputs": [],
   "source": [
    "model = Sequential()"
   ]
  },
  {
   "cell_type": "code",
   "execution_count": 8,
   "id": "389caaae-1a20-4175-8fed-6d51e43a4812",
   "metadata": {},
   "outputs": [
    {
     "name": "stderr",
     "output_type": "stream",
     "text": [
      "C:\\Users\\HP 840 G5\\AppData\\Local\\Programs\\Python\\Python312\\Lib\\site-packages\\keras\\src\\layers\\convolutional\\base_conv.py:107: UserWarning: Do not pass an `input_shape`/`input_dim` argument to a layer. When using Sequential models, prefer using an `Input(shape)` object as the first layer in the model instead.\n",
      "  super().__init__(activity_regularizer=activity_regularizer, **kwargs)\n"
     ]
    }
   ],
   "source": [
    "model.add(Conv2D(filters=32,kernel_size=3,padding='same',activation='relu',input_shape=[128, 128,3]))\n",
    "model.add(Conv2D(filters=32,kernel_size=3,activation='relu'))\n",
    "model.add(MaxPool2D(pool_size=2,strides=2))"
   ]
  },
  {
   "cell_type": "code",
   "execution_count": 9,
   "id": "7b8b9c20-c52e-4f0d-a1a9-9edc9fb795d8",
   "metadata": {},
   "outputs": [],
   "source": [
    "model.add(Conv2D(filters=64,kernel_size=3,padding='same',activation='relu'))\n",
    "model.add(Conv2D(filters=64,kernel_size=3,activation='relu'))\n",
    "model.add(MaxPool2D(pool_size=2,strides=2))"
   ]
  },
  {
   "cell_type": "code",
   "execution_count": 10,
   "id": "c1ebcaec-fa64-4532-b4c7-8dec7966e124",
   "metadata": {},
   "outputs": [],
   "source": [
    "model.add(Conv2D(filters=128,kernel_size=3,padding='same',activation='relu'))\n",
    "model.add(Conv2D(filters=128,kernel_size=3,activation='relu'))\n",
    "model.add(MaxPool2D(pool_size=2,strides=2))"
   ]
  },
  {
   "cell_type": "code",
   "execution_count": 11,
   "id": "50d9c3e3-139c-4f72-b6cc-bdb9ead94fc1",
   "metadata": {},
   "outputs": [],
   "source": [
    "model.add(Conv2D(filters=256,kernel_size=3,padding='same',activation='relu',))\n",
    "model.add(Conv2D(filters=256,kernel_size=3,activation='relu'))\n",
    "model.add(MaxPool2D(pool_size=2,strides=2))"
   ]
  },
  {
   "cell_type": "code",
   "execution_count": 12,
   "id": "aa744c97-8579-444c-9416-f8dfebae313e",
   "metadata": {},
   "outputs": [],
   "source": [
    "model.add(Conv2D(filters=512,kernel_size=3,padding='same',activation='relu'))\n",
    "model.add(Conv2D(filters=512,kernel_size=3,activation='relu'))\n",
    "model.add(MaxPool2D(pool_size=2,strides=2))"
   ]
  },
  {
   "cell_type": "code",
   "execution_count": 13,
   "id": "2b33569e-7e67-451a-b786-dcad4539a4b5",
   "metadata": {},
   "outputs": [],
   "source": [
    "model.add(Dropout(0.25))"
   ]
  },
  {
   "cell_type": "code",
   "execution_count": 14,
   "id": "75cb1046-ce86-4ff6-aa4d-58f8748c835e",
   "metadata": {},
   "outputs": [],
   "source": [
    "model.add(Flatten())"
   ]
  },
  {
   "cell_type": "code",
   "execution_count": 15,
   "id": "0b123139-a9e6-4fca-9a10-ffb880967145",
   "metadata": {},
   "outputs": [],
   "source": [
    "model.add(Dense(units=1024,activation='relu'))"
   ]
  },
  {
   "cell_type": "code",
   "execution_count": 16,
   "id": "487876e1-a239-474c-88df-d3db02a12b5e",
   "metadata": {},
   "outputs": [],
   "source": [
    "model.add(Dropout(0.40))"
   ]
  },
  {
   "cell_type": "code",
   "execution_count": 17,
   "id": "d80fb02b-5455-41f6-8b9e-468c2e9b7ce8",
   "metadata": {},
   "outputs": [],
   "source": [
    "##Output Layer\n",
    "model.add(Dense(units=6,activation='softmax'))"
   ]
  },
  {
   "cell_type": "code",
   "execution_count": 18,
   "id": "b38aecbc-a50c-413c-8ee4-b28348653f9f",
   "metadata": {},
   "outputs": [],
   "source": [
    "## Compiling Model\n",
    "model.compile(optimizer=tf.keras.optimizers.Adam(\n",
    "    learning_rate=0.0001),loss='categorical_crossentropy',metrics=['accuracy'])"
   ]
  },
  {
   "cell_type": "code",
   "execution_count": 19,
   "id": "45efe770-a874-4a20-9603-5d6acb9052f7",
   "metadata": {},
   "outputs": [
    {
     "data": {
      "text/html": [
       "<pre style=\"white-space:pre;overflow-x:auto;line-height:normal;font-family:Menlo,'DejaVu Sans Mono',consolas,'Courier New',monospace\"><span style=\"font-weight: bold\">Model: \"sequential\"</span>\n",
       "</pre>\n"
      ],
      "text/plain": [
       "\u001b[1mModel: \"sequential\"\u001b[0m\n"
      ]
     },
     "metadata": {},
     "output_type": "display_data"
    },
    {
     "data": {
      "text/html": [
       "<pre style=\"white-space:pre;overflow-x:auto;line-height:normal;font-family:Menlo,'DejaVu Sans Mono',consolas,'Courier New',monospace\">┏━━━━━━━━━━━━━━━━━━━━━━━━━━━━━━━━━━━━━━┳━━━━━━━━━━━━━━━━━━━━━━━━━━━━━┳━━━━━━━━━━━━━━━━━┓\n",
       "┃<span style=\"font-weight: bold\"> Layer (type)                         </span>┃<span style=\"font-weight: bold\"> Output Shape                </span>┃<span style=\"font-weight: bold\">         Param # </span>┃\n",
       "┡━━━━━━━━━━━━━━━━━━━━━━━━━━━━━━━━━━━━━━╇━━━━━━━━━━━━━━━━━━━━━━━━━━━━━╇━━━━━━━━━━━━━━━━━┩\n",
       "│ conv2d (<span style=\"color: #0087ff; text-decoration-color: #0087ff\">Conv2D</span>)                      │ (<span style=\"color: #00d7ff; text-decoration-color: #00d7ff\">None</span>, <span style=\"color: #00af00; text-decoration-color: #00af00\">128</span>, <span style=\"color: #00af00; text-decoration-color: #00af00\">128</span>, <span style=\"color: #00af00; text-decoration-color: #00af00\">32</span>)        │             <span style=\"color: #00af00; text-decoration-color: #00af00\">896</span> │\n",
       "├──────────────────────────────────────┼─────────────────────────────┼─────────────────┤\n",
       "│ conv2d_1 (<span style=\"color: #0087ff; text-decoration-color: #0087ff\">Conv2D</span>)                    │ (<span style=\"color: #00d7ff; text-decoration-color: #00d7ff\">None</span>, <span style=\"color: #00af00; text-decoration-color: #00af00\">126</span>, <span style=\"color: #00af00; text-decoration-color: #00af00\">126</span>, <span style=\"color: #00af00; text-decoration-color: #00af00\">32</span>)        │           <span style=\"color: #00af00; text-decoration-color: #00af00\">9,248</span> │\n",
       "├──────────────────────────────────────┼─────────────────────────────┼─────────────────┤\n",
       "│ max_pooling2d (<span style=\"color: #0087ff; text-decoration-color: #0087ff\">MaxPooling2D</span>)         │ (<span style=\"color: #00d7ff; text-decoration-color: #00d7ff\">None</span>, <span style=\"color: #00af00; text-decoration-color: #00af00\">63</span>, <span style=\"color: #00af00; text-decoration-color: #00af00\">63</span>, <span style=\"color: #00af00; text-decoration-color: #00af00\">32</span>)          │               <span style=\"color: #00af00; text-decoration-color: #00af00\">0</span> │\n",
       "├──────────────────────────────────────┼─────────────────────────────┼─────────────────┤\n",
       "│ conv2d_2 (<span style=\"color: #0087ff; text-decoration-color: #0087ff\">Conv2D</span>)                    │ (<span style=\"color: #00d7ff; text-decoration-color: #00d7ff\">None</span>, <span style=\"color: #00af00; text-decoration-color: #00af00\">63</span>, <span style=\"color: #00af00; text-decoration-color: #00af00\">63</span>, <span style=\"color: #00af00; text-decoration-color: #00af00\">64</span>)          │          <span style=\"color: #00af00; text-decoration-color: #00af00\">18,496</span> │\n",
       "├──────────────────────────────────────┼─────────────────────────────┼─────────────────┤\n",
       "│ conv2d_3 (<span style=\"color: #0087ff; text-decoration-color: #0087ff\">Conv2D</span>)                    │ (<span style=\"color: #00d7ff; text-decoration-color: #00d7ff\">None</span>, <span style=\"color: #00af00; text-decoration-color: #00af00\">61</span>, <span style=\"color: #00af00; text-decoration-color: #00af00\">61</span>, <span style=\"color: #00af00; text-decoration-color: #00af00\">64</span>)          │          <span style=\"color: #00af00; text-decoration-color: #00af00\">36,928</span> │\n",
       "├──────────────────────────────────────┼─────────────────────────────┼─────────────────┤\n",
       "│ max_pooling2d_1 (<span style=\"color: #0087ff; text-decoration-color: #0087ff\">MaxPooling2D</span>)       │ (<span style=\"color: #00d7ff; text-decoration-color: #00d7ff\">None</span>, <span style=\"color: #00af00; text-decoration-color: #00af00\">30</span>, <span style=\"color: #00af00; text-decoration-color: #00af00\">30</span>, <span style=\"color: #00af00; text-decoration-color: #00af00\">64</span>)          │               <span style=\"color: #00af00; text-decoration-color: #00af00\">0</span> │\n",
       "├──────────────────────────────────────┼─────────────────────────────┼─────────────────┤\n",
       "│ conv2d_4 (<span style=\"color: #0087ff; text-decoration-color: #0087ff\">Conv2D</span>)                    │ (<span style=\"color: #00d7ff; text-decoration-color: #00d7ff\">None</span>, <span style=\"color: #00af00; text-decoration-color: #00af00\">30</span>, <span style=\"color: #00af00; text-decoration-color: #00af00\">30</span>, <span style=\"color: #00af00; text-decoration-color: #00af00\">128</span>)         │          <span style=\"color: #00af00; text-decoration-color: #00af00\">73,856</span> │\n",
       "├──────────────────────────────────────┼─────────────────────────────┼─────────────────┤\n",
       "│ conv2d_5 (<span style=\"color: #0087ff; text-decoration-color: #0087ff\">Conv2D</span>)                    │ (<span style=\"color: #00d7ff; text-decoration-color: #00d7ff\">None</span>, <span style=\"color: #00af00; text-decoration-color: #00af00\">28</span>, <span style=\"color: #00af00; text-decoration-color: #00af00\">28</span>, <span style=\"color: #00af00; text-decoration-color: #00af00\">128</span>)         │         <span style=\"color: #00af00; text-decoration-color: #00af00\">147,584</span> │\n",
       "├──────────────────────────────────────┼─────────────────────────────┼─────────────────┤\n",
       "│ max_pooling2d_2 (<span style=\"color: #0087ff; text-decoration-color: #0087ff\">MaxPooling2D</span>)       │ (<span style=\"color: #00d7ff; text-decoration-color: #00d7ff\">None</span>, <span style=\"color: #00af00; text-decoration-color: #00af00\">14</span>, <span style=\"color: #00af00; text-decoration-color: #00af00\">14</span>, <span style=\"color: #00af00; text-decoration-color: #00af00\">128</span>)         │               <span style=\"color: #00af00; text-decoration-color: #00af00\">0</span> │\n",
       "├──────────────────────────────────────┼─────────────────────────────┼─────────────────┤\n",
       "│ conv2d_6 (<span style=\"color: #0087ff; text-decoration-color: #0087ff\">Conv2D</span>)                    │ (<span style=\"color: #00d7ff; text-decoration-color: #00d7ff\">None</span>, <span style=\"color: #00af00; text-decoration-color: #00af00\">14</span>, <span style=\"color: #00af00; text-decoration-color: #00af00\">14</span>, <span style=\"color: #00af00; text-decoration-color: #00af00\">256</span>)         │         <span style=\"color: #00af00; text-decoration-color: #00af00\">295,168</span> │\n",
       "├──────────────────────────────────────┼─────────────────────────────┼─────────────────┤\n",
       "│ conv2d_7 (<span style=\"color: #0087ff; text-decoration-color: #0087ff\">Conv2D</span>)                    │ (<span style=\"color: #00d7ff; text-decoration-color: #00d7ff\">None</span>, <span style=\"color: #00af00; text-decoration-color: #00af00\">12</span>, <span style=\"color: #00af00; text-decoration-color: #00af00\">12</span>, <span style=\"color: #00af00; text-decoration-color: #00af00\">256</span>)         │         <span style=\"color: #00af00; text-decoration-color: #00af00\">590,080</span> │\n",
       "├──────────────────────────────────────┼─────────────────────────────┼─────────────────┤\n",
       "│ max_pooling2d_3 (<span style=\"color: #0087ff; text-decoration-color: #0087ff\">MaxPooling2D</span>)       │ (<span style=\"color: #00d7ff; text-decoration-color: #00d7ff\">None</span>, <span style=\"color: #00af00; text-decoration-color: #00af00\">6</span>, <span style=\"color: #00af00; text-decoration-color: #00af00\">6</span>, <span style=\"color: #00af00; text-decoration-color: #00af00\">256</span>)           │               <span style=\"color: #00af00; text-decoration-color: #00af00\">0</span> │\n",
       "├──────────────────────────────────────┼─────────────────────────────┼─────────────────┤\n",
       "│ conv2d_8 (<span style=\"color: #0087ff; text-decoration-color: #0087ff\">Conv2D</span>)                    │ (<span style=\"color: #00d7ff; text-decoration-color: #00d7ff\">None</span>, <span style=\"color: #00af00; text-decoration-color: #00af00\">6</span>, <span style=\"color: #00af00; text-decoration-color: #00af00\">6</span>, <span style=\"color: #00af00; text-decoration-color: #00af00\">512</span>)           │       <span style=\"color: #00af00; text-decoration-color: #00af00\">1,180,160</span> │\n",
       "├──────────────────────────────────────┼─────────────────────────────┼─────────────────┤\n",
       "│ conv2d_9 (<span style=\"color: #0087ff; text-decoration-color: #0087ff\">Conv2D</span>)                    │ (<span style=\"color: #00d7ff; text-decoration-color: #00d7ff\">None</span>, <span style=\"color: #00af00; text-decoration-color: #00af00\">4</span>, <span style=\"color: #00af00; text-decoration-color: #00af00\">4</span>, <span style=\"color: #00af00; text-decoration-color: #00af00\">512</span>)           │       <span style=\"color: #00af00; text-decoration-color: #00af00\">2,359,808</span> │\n",
       "├──────────────────────────────────────┼─────────────────────────────┼─────────────────┤\n",
       "│ max_pooling2d_4 (<span style=\"color: #0087ff; text-decoration-color: #0087ff\">MaxPooling2D</span>)       │ (<span style=\"color: #00d7ff; text-decoration-color: #00d7ff\">None</span>, <span style=\"color: #00af00; text-decoration-color: #00af00\">2</span>, <span style=\"color: #00af00; text-decoration-color: #00af00\">2</span>, <span style=\"color: #00af00; text-decoration-color: #00af00\">512</span>)           │               <span style=\"color: #00af00; text-decoration-color: #00af00\">0</span> │\n",
       "├──────────────────────────────────────┼─────────────────────────────┼─────────────────┤\n",
       "│ dropout (<span style=\"color: #0087ff; text-decoration-color: #0087ff\">Dropout</span>)                    │ (<span style=\"color: #00d7ff; text-decoration-color: #00d7ff\">None</span>, <span style=\"color: #00af00; text-decoration-color: #00af00\">2</span>, <span style=\"color: #00af00; text-decoration-color: #00af00\">2</span>, <span style=\"color: #00af00; text-decoration-color: #00af00\">512</span>)           │               <span style=\"color: #00af00; text-decoration-color: #00af00\">0</span> │\n",
       "├──────────────────────────────────────┼─────────────────────────────┼─────────────────┤\n",
       "│ flatten (<span style=\"color: #0087ff; text-decoration-color: #0087ff\">Flatten</span>)                    │ (<span style=\"color: #00d7ff; text-decoration-color: #00d7ff\">None</span>, <span style=\"color: #00af00; text-decoration-color: #00af00\">2048</span>)                │               <span style=\"color: #00af00; text-decoration-color: #00af00\">0</span> │\n",
       "├──────────────────────────────────────┼─────────────────────────────┼─────────────────┤\n",
       "│ dense (<span style=\"color: #0087ff; text-decoration-color: #0087ff\">Dense</span>)                        │ (<span style=\"color: #00d7ff; text-decoration-color: #00d7ff\">None</span>, <span style=\"color: #00af00; text-decoration-color: #00af00\">1024</span>)                │       <span style=\"color: #00af00; text-decoration-color: #00af00\">2,098,176</span> │\n",
       "├──────────────────────────────────────┼─────────────────────────────┼─────────────────┤\n",
       "│ dropout_1 (<span style=\"color: #0087ff; text-decoration-color: #0087ff\">Dropout</span>)                  │ (<span style=\"color: #00d7ff; text-decoration-color: #00d7ff\">None</span>, <span style=\"color: #00af00; text-decoration-color: #00af00\">1024</span>)                │               <span style=\"color: #00af00; text-decoration-color: #00af00\">0</span> │\n",
       "├──────────────────────────────────────┼─────────────────────────────┼─────────────────┤\n",
       "│ dense_1 (<span style=\"color: #0087ff; text-decoration-color: #0087ff\">Dense</span>)                      │ (<span style=\"color: #00d7ff; text-decoration-color: #00d7ff\">None</span>, <span style=\"color: #00af00; text-decoration-color: #00af00\">6</span>)                   │           <span style=\"color: #00af00; text-decoration-color: #00af00\">6,150</span> │\n",
       "└──────────────────────────────────────┴─────────────────────────────┴─────────────────┘\n",
       "</pre>\n"
      ],
      "text/plain": [
       "┏━━━━━━━━━━━━━━━━━━━━━━━━━━━━━━━━━━━━━━┳━━━━━━━━━━━━━━━━━━━━━━━━━━━━━┳━━━━━━━━━━━━━━━━━┓\n",
       "┃\u001b[1m \u001b[0m\u001b[1mLayer (type)                        \u001b[0m\u001b[1m \u001b[0m┃\u001b[1m \u001b[0m\u001b[1mOutput Shape               \u001b[0m\u001b[1m \u001b[0m┃\u001b[1m \u001b[0m\u001b[1m        Param #\u001b[0m\u001b[1m \u001b[0m┃\n",
       "┡━━━━━━━━━━━━━━━━━━━━━━━━━━━━━━━━━━━━━━╇━━━━━━━━━━━━━━━━━━━━━━━━━━━━━╇━━━━━━━━━━━━━━━━━┩\n",
       "│ conv2d (\u001b[38;5;33mConv2D\u001b[0m)                      │ (\u001b[38;5;45mNone\u001b[0m, \u001b[38;5;34m128\u001b[0m, \u001b[38;5;34m128\u001b[0m, \u001b[38;5;34m32\u001b[0m)        │             \u001b[38;5;34m896\u001b[0m │\n",
       "├──────────────────────────────────────┼─────────────────────────────┼─────────────────┤\n",
       "│ conv2d_1 (\u001b[38;5;33mConv2D\u001b[0m)                    │ (\u001b[38;5;45mNone\u001b[0m, \u001b[38;5;34m126\u001b[0m, \u001b[38;5;34m126\u001b[0m, \u001b[38;5;34m32\u001b[0m)        │           \u001b[38;5;34m9,248\u001b[0m │\n",
       "├──────────────────────────────────────┼─────────────────────────────┼─────────────────┤\n",
       "│ max_pooling2d (\u001b[38;5;33mMaxPooling2D\u001b[0m)         │ (\u001b[38;5;45mNone\u001b[0m, \u001b[38;5;34m63\u001b[0m, \u001b[38;5;34m63\u001b[0m, \u001b[38;5;34m32\u001b[0m)          │               \u001b[38;5;34m0\u001b[0m │\n",
       "├──────────────────────────────────────┼─────────────────────────────┼─────────────────┤\n",
       "│ conv2d_2 (\u001b[38;5;33mConv2D\u001b[0m)                    │ (\u001b[38;5;45mNone\u001b[0m, \u001b[38;5;34m63\u001b[0m, \u001b[38;5;34m63\u001b[0m, \u001b[38;5;34m64\u001b[0m)          │          \u001b[38;5;34m18,496\u001b[0m │\n",
       "├──────────────────────────────────────┼─────────────────────────────┼─────────────────┤\n",
       "│ conv2d_3 (\u001b[38;5;33mConv2D\u001b[0m)                    │ (\u001b[38;5;45mNone\u001b[0m, \u001b[38;5;34m61\u001b[0m, \u001b[38;5;34m61\u001b[0m, \u001b[38;5;34m64\u001b[0m)          │          \u001b[38;5;34m36,928\u001b[0m │\n",
       "├──────────────────────────────────────┼─────────────────────────────┼─────────────────┤\n",
       "│ max_pooling2d_1 (\u001b[38;5;33mMaxPooling2D\u001b[0m)       │ (\u001b[38;5;45mNone\u001b[0m, \u001b[38;5;34m30\u001b[0m, \u001b[38;5;34m30\u001b[0m, \u001b[38;5;34m64\u001b[0m)          │               \u001b[38;5;34m0\u001b[0m │\n",
       "├──────────────────────────────────────┼─────────────────────────────┼─────────────────┤\n",
       "│ conv2d_4 (\u001b[38;5;33mConv2D\u001b[0m)                    │ (\u001b[38;5;45mNone\u001b[0m, \u001b[38;5;34m30\u001b[0m, \u001b[38;5;34m30\u001b[0m, \u001b[38;5;34m128\u001b[0m)         │          \u001b[38;5;34m73,856\u001b[0m │\n",
       "├──────────────────────────────────────┼─────────────────────────────┼─────────────────┤\n",
       "│ conv2d_5 (\u001b[38;5;33mConv2D\u001b[0m)                    │ (\u001b[38;5;45mNone\u001b[0m, \u001b[38;5;34m28\u001b[0m, \u001b[38;5;34m28\u001b[0m, \u001b[38;5;34m128\u001b[0m)         │         \u001b[38;5;34m147,584\u001b[0m │\n",
       "├──────────────────────────────────────┼─────────────────────────────┼─────────────────┤\n",
       "│ max_pooling2d_2 (\u001b[38;5;33mMaxPooling2D\u001b[0m)       │ (\u001b[38;5;45mNone\u001b[0m, \u001b[38;5;34m14\u001b[0m, \u001b[38;5;34m14\u001b[0m, \u001b[38;5;34m128\u001b[0m)         │               \u001b[38;5;34m0\u001b[0m │\n",
       "├──────────────────────────────────────┼─────────────────────────────┼─────────────────┤\n",
       "│ conv2d_6 (\u001b[38;5;33mConv2D\u001b[0m)                    │ (\u001b[38;5;45mNone\u001b[0m, \u001b[38;5;34m14\u001b[0m, \u001b[38;5;34m14\u001b[0m, \u001b[38;5;34m256\u001b[0m)         │         \u001b[38;5;34m295,168\u001b[0m │\n",
       "├──────────────────────────────────────┼─────────────────────────────┼─────────────────┤\n",
       "│ conv2d_7 (\u001b[38;5;33mConv2D\u001b[0m)                    │ (\u001b[38;5;45mNone\u001b[0m, \u001b[38;5;34m12\u001b[0m, \u001b[38;5;34m12\u001b[0m, \u001b[38;5;34m256\u001b[0m)         │         \u001b[38;5;34m590,080\u001b[0m │\n",
       "├──────────────────────────────────────┼─────────────────────────────┼─────────────────┤\n",
       "│ max_pooling2d_3 (\u001b[38;5;33mMaxPooling2D\u001b[0m)       │ (\u001b[38;5;45mNone\u001b[0m, \u001b[38;5;34m6\u001b[0m, \u001b[38;5;34m6\u001b[0m, \u001b[38;5;34m256\u001b[0m)           │               \u001b[38;5;34m0\u001b[0m │\n",
       "├──────────────────────────────────────┼─────────────────────────────┼─────────────────┤\n",
       "│ conv2d_8 (\u001b[38;5;33mConv2D\u001b[0m)                    │ (\u001b[38;5;45mNone\u001b[0m, \u001b[38;5;34m6\u001b[0m, \u001b[38;5;34m6\u001b[0m, \u001b[38;5;34m512\u001b[0m)           │       \u001b[38;5;34m1,180,160\u001b[0m │\n",
       "├──────────────────────────────────────┼─────────────────────────────┼─────────────────┤\n",
       "│ conv2d_9 (\u001b[38;5;33mConv2D\u001b[0m)                    │ (\u001b[38;5;45mNone\u001b[0m, \u001b[38;5;34m4\u001b[0m, \u001b[38;5;34m4\u001b[0m, \u001b[38;5;34m512\u001b[0m)           │       \u001b[38;5;34m2,359,808\u001b[0m │\n",
       "├──────────────────────────────────────┼─────────────────────────────┼─────────────────┤\n",
       "│ max_pooling2d_4 (\u001b[38;5;33mMaxPooling2D\u001b[0m)       │ (\u001b[38;5;45mNone\u001b[0m, \u001b[38;5;34m2\u001b[0m, \u001b[38;5;34m2\u001b[0m, \u001b[38;5;34m512\u001b[0m)           │               \u001b[38;5;34m0\u001b[0m │\n",
       "├──────────────────────────────────────┼─────────────────────────────┼─────────────────┤\n",
       "│ dropout (\u001b[38;5;33mDropout\u001b[0m)                    │ (\u001b[38;5;45mNone\u001b[0m, \u001b[38;5;34m2\u001b[0m, \u001b[38;5;34m2\u001b[0m, \u001b[38;5;34m512\u001b[0m)           │               \u001b[38;5;34m0\u001b[0m │\n",
       "├──────────────────────────────────────┼─────────────────────────────┼─────────────────┤\n",
       "│ flatten (\u001b[38;5;33mFlatten\u001b[0m)                    │ (\u001b[38;5;45mNone\u001b[0m, \u001b[38;5;34m2048\u001b[0m)                │               \u001b[38;5;34m0\u001b[0m │\n",
       "├──────────────────────────────────────┼─────────────────────────────┼─────────────────┤\n",
       "│ dense (\u001b[38;5;33mDense\u001b[0m)                        │ (\u001b[38;5;45mNone\u001b[0m, \u001b[38;5;34m1024\u001b[0m)                │       \u001b[38;5;34m2,098,176\u001b[0m │\n",
       "├──────────────────────────────────────┼─────────────────────────────┼─────────────────┤\n",
       "│ dropout_1 (\u001b[38;5;33mDropout\u001b[0m)                  │ (\u001b[38;5;45mNone\u001b[0m, \u001b[38;5;34m1024\u001b[0m)                │               \u001b[38;5;34m0\u001b[0m │\n",
       "├──────────────────────────────────────┼─────────────────────────────┼─────────────────┤\n",
       "│ dense_1 (\u001b[38;5;33mDense\u001b[0m)                      │ (\u001b[38;5;45mNone\u001b[0m, \u001b[38;5;34m6\u001b[0m)                   │           \u001b[38;5;34m6,150\u001b[0m │\n",
       "└──────────────────────────────────────┴─────────────────────────────┴─────────────────┘\n"
      ]
     },
     "metadata": {},
     "output_type": "display_data"
    },
    {
     "data": {
      "text/html": [
       "<pre style=\"white-space:pre;overflow-x:auto;line-height:normal;font-family:Menlo,'DejaVu Sans Mono',consolas,'Courier New',monospace\"><span style=\"font-weight: bold\"> Total params: </span><span style=\"color: #00af00; text-decoration-color: #00af00\">6,816,550</span> (26.00 MB)\n",
       "</pre>\n"
      ],
      "text/plain": [
       "\u001b[1m Total params: \u001b[0m\u001b[38;5;34m6,816,550\u001b[0m (26.00 MB)\n"
      ]
     },
     "metadata": {},
     "output_type": "display_data"
    },
    {
     "data": {
      "text/html": [
       "<pre style=\"white-space:pre;overflow-x:auto;line-height:normal;font-family:Menlo,'DejaVu Sans Mono',consolas,'Courier New',monospace\"><span style=\"font-weight: bold\"> Trainable params: </span><span style=\"color: #00af00; text-decoration-color: #00af00\">6,816,550</span> (26.00 MB)\n",
       "</pre>\n"
      ],
      "text/plain": [
       "\u001b[1m Trainable params: \u001b[0m\u001b[38;5;34m6,816,550\u001b[0m (26.00 MB)\n"
      ]
     },
     "metadata": {},
     "output_type": "display_data"
    },
    {
     "data": {
      "text/html": [
       "<pre style=\"white-space:pre;overflow-x:auto;line-height:normal;font-family:Menlo,'DejaVu Sans Mono',consolas,'Courier New',monospace\"><span style=\"font-weight: bold\"> Non-trainable params: </span><span style=\"color: #00af00; text-decoration-color: #00af00\">0</span> (0.00 B)\n",
       "</pre>\n"
      ],
      "text/plain": [
       "\u001b[1m Non-trainable params: \u001b[0m\u001b[38;5;34m0\u001b[0m (0.00 B)\n"
      ]
     },
     "metadata": {},
     "output_type": "display_data"
    }
   ],
   "source": [
    "model.summary()"
   ]
  },
  {
   "cell_type": "code",
   "execution_count": 20,
   "id": "dbaf08d7-dc99-4bdf-8232-65ebdc940e5f",
   "metadata": {},
   "outputs": [
    {
     "name": "stdout",
     "output_type": "stream",
     "text": [
      "Epoch 1/5\n",
      "\u001b[1m966/966\u001b[0m \u001b[32m━━━━━━━━━━━━━━━━━━━━\u001b[0m\u001b[37m\u001b[0m \u001b[1m1573s\u001b[0m 2s/step - accuracy: 0.4335 - loss: 1.3633 - val_accuracy: 0.5603 - val_loss: 1.1031\n",
      "Epoch 2/5\n",
      "\u001b[1m966/966\u001b[0m \u001b[32m━━━━━━━━━━━━━━━━━━━━\u001b[0m\u001b[37m\u001b[0m \u001b[1m1722s\u001b[0m 2s/step - accuracy: 0.5635 - loss: 1.0790 - val_accuracy: 0.6123 - val_loss: 0.9747\n",
      "Epoch 3/5\n",
      "\u001b[1m966/966\u001b[0m \u001b[32m━━━━━━━━━━━━━━━━━━━━\u001b[0m\u001b[37m\u001b[0m \u001b[1m1284s\u001b[0m 1s/step - accuracy: 0.6029 - loss: 0.9873 - val_accuracy: 0.6380 - val_loss: 0.9280\n",
      "Epoch 4/5\n",
      "\u001b[1m966/966\u001b[0m \u001b[32m━━━━━━━━━━━━━━━━━━━━\u001b[0m\u001b[37m\u001b[0m \u001b[1m1251s\u001b[0m 1s/step - accuracy: 0.6416 - loss: 0.9116 - val_accuracy: 0.6691 - val_loss: 0.8674\n",
      "Epoch 5/5\n",
      "\u001b[1m966/966\u001b[0m \u001b[32m━━━━━━━━━━━━━━━━━━━━\u001b[0m\u001b[37m\u001b[0m \u001b[1m1294s\u001b[0m 1s/step - accuracy: 0.6790 - loss: 0.8261 - val_accuracy: 0.6832 - val_loss: 0.8412\n"
     ]
    }
   ],
   "source": [
    "### Model Training\n",
    "training_history = model.fit(x=training_set, validation_data=validation_set,epochs=5)"
   ]
  },
  {
   "cell_type": "code",
   "execution_count": 21,
   "id": "0a32df38-f774-4fff-aa5d-ea184d401aeb",
   "metadata": {},
   "outputs": [
    {
     "name": "stdout",
     "output_type": "stream",
     "text": [
      "\u001b[1m966/966\u001b[0m \u001b[32m━━━━━━━━━━━━━━━━━━━━\u001b[0m\u001b[37m\u001b[0m \u001b[1m390s\u001b[0m 403ms/step - accuracy: 0.7191 - loss: 0.7297\n"
     ]
    }
   ],
   "source": [
    "## Model evaluation\n",
    "train_loss, train_acc = model.evaluate(training_set)"
   ]
  },
  {
   "cell_type": "code",
   "execution_count": 22,
   "id": "71aac3df-4865-4cbd-903e-3278729c235e",
   "metadata": {},
   "outputs": [
    {
     "name": "stdout",
     "output_type": "stream",
     "text": [
      "0.699307918548584 0.7320521473884583\n"
     ]
    }
   ],
   "source": [
    "print(train_loss, train_acc)"
   ]
  },
  {
   "cell_type": "code",
   "execution_count": 23,
   "id": "1e49f219-d595-47cd-a7ac-929871f91efc",
   "metadata": {},
   "outputs": [
    {
     "name": "stdout",
     "output_type": "stream",
     "text": [
      "\u001b[1m123/123\u001b[0m \u001b[32m━━━━━━━━━━━━━━━━━━━━\u001b[0m\u001b[37m\u001b[0m \u001b[1m62s\u001b[0m 475ms/step - accuracy: 0.6849 - loss: 0.8446\n"
     ]
    }
   ],
   "source": [
    "val_loss, val_acc = model.evaluate(validation_set)"
   ]
  },
  {
   "cell_type": "code",
   "execution_count": 24,
   "id": "f17ac58e-8178-4f8c-a00b-7c0d961c5a1a",
   "metadata": {},
   "outputs": [
    {
     "name": "stdout",
     "output_type": "stream",
     "text": [
      "0.8411510586738586 0.6831506490707397\n"
     ]
    }
   ],
   "source": [
    "print(val_loss, val_acc)"
   ]
  },
  {
   "cell_type": "code",
   "execution_count": 44,
   "id": "0d290f47-b11c-4084-b445-8376ebaacb20",
   "metadata": {},
   "outputs": [],
   "source": [
    "### Saving moddel\n",
    "model.save(\"trained_model1.keras\")"
   ]
  },
  {
   "cell_type": "code",
   "execution_count": 45,
   "id": "9755691d-8fa6-495b-b211-f31299719a96",
   "metadata": {},
   "outputs": [
    {
     "data": {
      "text/plain": [
       "{'accuracy': [0.48523083329200745,\n",
       "  0.575204610824585,\n",
       "  0.6131547689437866,\n",
       "  0.650846004486084,\n",
       "  0.689669668674469],\n",
       " 'loss': [1.2352745532989502,\n",
       "  1.0543529987335205,\n",
       "  0.9688857793807983,\n",
       "  0.8907964825630188,\n",
       "  0.7983222007751465],\n",
       " 'val_accuracy': [0.5602855086326599,\n",
       "  0.6122865080833435,\n",
       "  0.6380321383476257,\n",
       "  0.6691307425498962,\n",
       "  0.6831506490707397],\n",
       " 'val_loss': [1.1030884981155396,\n",
       "  0.9746937155723572,\n",
       "  0.9279953241348267,\n",
       "  0.8674115538597107,\n",
       "  0.8411514759063721]}"
      ]
     },
     "execution_count": 45,
     "metadata": {},
     "output_type": "execute_result"
    }
   ],
   "source": [
    "training_history.history"
   ]
  },
  {
   "cell_type": "code",
   "execution_count": 46,
   "id": "52aa2a0f-793f-4a46-8505-13964a86bd9f",
   "metadata": {},
   "outputs": [],
   "source": [
    "##Record History in JSON\n",
    "import json\n",
    "with open(\"training_hist1.json\", \"w\") as f:\n",
    "    json.dump(training_history.history, f)"
   ]
  },
  {
   "cell_type": "code",
   "execution_count": 47,
   "id": "8d002bf1-9f9f-46bc-b13d-b3a0629a2769",
   "metadata": {},
   "outputs": [
    {
     "ename": "ValueError",
     "evalue": "x and y must have same first dimension, but have shapes (10,) and (5,)",
     "output_type": "error",
     "traceback": [
      "\u001b[1;31m---------------------------------------------------------------------------\u001b[0m",
      "\u001b[1;31mValueError\u001b[0m                                Traceback (most recent call last)",
      "Cell \u001b[1;32mIn[47], line 2\u001b[0m\n\u001b[0;32m      1\u001b[0m epochs \u001b[38;5;241m=\u001b[39m [i \u001b[38;5;28;01mfor\u001b[39;00m i \u001b[38;5;129;01min\u001b[39;00m \u001b[38;5;28mrange\u001b[39m(\u001b[38;5;241m1\u001b[39m,\u001b[38;5;241m11\u001b[39m)]\n\u001b[1;32m----> 2\u001b[0m \u001b[43mplt\u001b[49m\u001b[38;5;241;43m.\u001b[39;49m\u001b[43mplot\u001b[49m\u001b[43m(\u001b[49m\u001b[43mepochs\u001b[49m\u001b[43m,\u001b[49m\u001b[43mtraining_history\u001b[49m\u001b[38;5;241;43m.\u001b[39;49m\u001b[43mhistory\u001b[49m\u001b[43m[\u001b[49m\u001b[38;5;124;43m'\u001b[39;49m\u001b[38;5;124;43maccuracy\u001b[39;49m\u001b[38;5;124;43m'\u001b[39;49m\u001b[43m]\u001b[49m\u001b[43m,\u001b[49m\u001b[43mcolor\u001b[49m\u001b[38;5;241;43m=\u001b[39;49m\u001b[38;5;124;43m'\u001b[39;49m\u001b[38;5;124;43mred\u001b[39;49m\u001b[38;5;124;43m'\u001b[39;49m\u001b[43m,\u001b[49m\u001b[43mlabel\u001b[49m\u001b[38;5;241;43m=\u001b[39;49m\u001b[38;5;124;43m'\u001b[39;49m\u001b[38;5;124;43mTraining Accuracy\u001b[39;49m\u001b[38;5;124;43m'\u001b[39;49m\u001b[43m)\u001b[49m\n\u001b[0;32m      3\u001b[0m plt\u001b[38;5;241m.\u001b[39mplot(epochs,training_history\u001b[38;5;241m.\u001b[39mhistory[\u001b[38;5;124m'\u001b[39m\u001b[38;5;124mval_accuracy\u001b[39m\u001b[38;5;124m'\u001b[39m],color\u001b[38;5;241m=\u001b[39m\u001b[38;5;124m'\u001b[39m\u001b[38;5;124mblue\u001b[39m\u001b[38;5;124m'\u001b[39m,label\u001b[38;5;241m=\u001b[39m\u001b[38;5;124m'\u001b[39m\u001b[38;5;124mValidation Accuracy\u001b[39m\u001b[38;5;124m'\u001b[39m)\n\u001b[0;32m      4\u001b[0m plt\u001b[38;5;241m.\u001b[39mxlabel(\u001b[38;5;124m\"\u001b[39m\u001b[38;5;124mNo. of Epochs\u001b[39m\u001b[38;5;124m\"\u001b[39m)\n",
      "File \u001b[1;32m~\\AppData\\Local\\Programs\\Python\\Python312\\Lib\\site-packages\\matplotlib\\pyplot.py:3590\u001b[0m, in \u001b[0;36mplot\u001b[1;34m(scalex, scaley, data, *args, **kwargs)\u001b[0m\n\u001b[0;32m   3582\u001b[0m \u001b[38;5;129m@_copy_docstring_and_deprecators\u001b[39m(Axes\u001b[38;5;241m.\u001b[39mplot)\n\u001b[0;32m   3583\u001b[0m \u001b[38;5;28;01mdef\u001b[39;00m \u001b[38;5;21mplot\u001b[39m(\n\u001b[0;32m   3584\u001b[0m     \u001b[38;5;241m*\u001b[39margs: \u001b[38;5;28mfloat\u001b[39m \u001b[38;5;241m|\u001b[39m ArrayLike \u001b[38;5;241m|\u001b[39m \u001b[38;5;28mstr\u001b[39m,\n\u001b[1;32m   (...)\u001b[0m\n\u001b[0;32m   3588\u001b[0m     \u001b[38;5;241m*\u001b[39m\u001b[38;5;241m*\u001b[39mkwargs,\n\u001b[0;32m   3589\u001b[0m ) \u001b[38;5;241m-\u001b[39m\u001b[38;5;241m>\u001b[39m \u001b[38;5;28mlist\u001b[39m[Line2D]:\n\u001b[1;32m-> 3590\u001b[0m     \u001b[38;5;28;01mreturn\u001b[39;00m \u001b[43mgca\u001b[49m\u001b[43m(\u001b[49m\u001b[43m)\u001b[49m\u001b[38;5;241;43m.\u001b[39;49m\u001b[43mplot\u001b[49m\u001b[43m(\u001b[49m\n\u001b[0;32m   3591\u001b[0m \u001b[43m        \u001b[49m\u001b[38;5;241;43m*\u001b[39;49m\u001b[43margs\u001b[49m\u001b[43m,\u001b[49m\n\u001b[0;32m   3592\u001b[0m \u001b[43m        \u001b[49m\u001b[43mscalex\u001b[49m\u001b[38;5;241;43m=\u001b[39;49m\u001b[43mscalex\u001b[49m\u001b[43m,\u001b[49m\n\u001b[0;32m   3593\u001b[0m \u001b[43m        \u001b[49m\u001b[43mscaley\u001b[49m\u001b[38;5;241;43m=\u001b[39;49m\u001b[43mscaley\u001b[49m\u001b[43m,\u001b[49m\n\u001b[0;32m   3594\u001b[0m \u001b[43m        \u001b[49m\u001b[38;5;241;43m*\u001b[39;49m\u001b[38;5;241;43m*\u001b[39;49m\u001b[43m(\u001b[49m\u001b[43m{\u001b[49m\u001b[38;5;124;43m\"\u001b[39;49m\u001b[38;5;124;43mdata\u001b[39;49m\u001b[38;5;124;43m\"\u001b[39;49m\u001b[43m:\u001b[49m\u001b[43m \u001b[49m\u001b[43mdata\u001b[49m\u001b[43m}\u001b[49m\u001b[43m \u001b[49m\u001b[38;5;28;43;01mif\u001b[39;49;00m\u001b[43m \u001b[49m\u001b[43mdata\u001b[49m\u001b[43m \u001b[49m\u001b[38;5;129;43;01mis\u001b[39;49;00m\u001b[43m \u001b[49m\u001b[38;5;129;43;01mnot\u001b[39;49;00m\u001b[43m \u001b[49m\u001b[38;5;28;43;01mNone\u001b[39;49;00m\u001b[43m \u001b[49m\u001b[38;5;28;43;01melse\u001b[39;49;00m\u001b[43m \u001b[49m\u001b[43m{\u001b[49m\u001b[43m}\u001b[49m\u001b[43m)\u001b[49m\u001b[43m,\u001b[49m\n\u001b[0;32m   3595\u001b[0m \u001b[43m        \u001b[49m\u001b[38;5;241;43m*\u001b[39;49m\u001b[38;5;241;43m*\u001b[39;49m\u001b[43mkwargs\u001b[49m\u001b[43m,\u001b[49m\n\u001b[0;32m   3596\u001b[0m \u001b[43m    \u001b[49m\u001b[43m)\u001b[49m\n",
      "File \u001b[1;32m~\\AppData\\Local\\Programs\\Python\\Python312\\Lib\\site-packages\\matplotlib\\axes\\_axes.py:1724\u001b[0m, in \u001b[0;36mAxes.plot\u001b[1;34m(self, scalex, scaley, data, *args, **kwargs)\u001b[0m\n\u001b[0;32m   1481\u001b[0m \u001b[38;5;250m\u001b[39m\u001b[38;5;124;03m\"\"\"\u001b[39;00m\n\u001b[0;32m   1482\u001b[0m \u001b[38;5;124;03mPlot y versus x as lines and/or markers.\u001b[39;00m\n\u001b[0;32m   1483\u001b[0m \n\u001b[1;32m   (...)\u001b[0m\n\u001b[0;32m   1721\u001b[0m \u001b[38;5;124;03m(``'green'``) or hex strings (``'#008000'``).\u001b[39;00m\n\u001b[0;32m   1722\u001b[0m \u001b[38;5;124;03m\"\"\"\u001b[39;00m\n\u001b[0;32m   1723\u001b[0m kwargs \u001b[38;5;241m=\u001b[39m cbook\u001b[38;5;241m.\u001b[39mnormalize_kwargs(kwargs, mlines\u001b[38;5;241m.\u001b[39mLine2D)\n\u001b[1;32m-> 1724\u001b[0m lines \u001b[38;5;241m=\u001b[39m [\u001b[38;5;241m*\u001b[39m\u001b[38;5;28mself\u001b[39m\u001b[38;5;241m.\u001b[39m_get_lines(\u001b[38;5;28mself\u001b[39m, \u001b[38;5;241m*\u001b[39margs, data\u001b[38;5;241m=\u001b[39mdata, \u001b[38;5;241m*\u001b[39m\u001b[38;5;241m*\u001b[39mkwargs)]\n\u001b[0;32m   1725\u001b[0m \u001b[38;5;28;01mfor\u001b[39;00m line \u001b[38;5;129;01min\u001b[39;00m lines:\n\u001b[0;32m   1726\u001b[0m     \u001b[38;5;28mself\u001b[39m\u001b[38;5;241m.\u001b[39madd_line(line)\n",
      "File \u001b[1;32m~\\AppData\\Local\\Programs\\Python\\Python312\\Lib\\site-packages\\matplotlib\\axes\\_base.py:303\u001b[0m, in \u001b[0;36m_process_plot_var_args.__call__\u001b[1;34m(self, axes, data, *args, **kwargs)\u001b[0m\n\u001b[0;32m    301\u001b[0m     this \u001b[38;5;241m+\u001b[39m\u001b[38;5;241m=\u001b[39m args[\u001b[38;5;241m0\u001b[39m],\n\u001b[0;32m    302\u001b[0m     args \u001b[38;5;241m=\u001b[39m args[\u001b[38;5;241m1\u001b[39m:]\n\u001b[1;32m--> 303\u001b[0m \u001b[38;5;28;01myield from\u001b[39;00m \u001b[38;5;28;43mself\u001b[39;49m\u001b[38;5;241;43m.\u001b[39;49m\u001b[43m_plot_args\u001b[49m\u001b[43m(\u001b[49m\n\u001b[0;32m    304\u001b[0m \u001b[43m    \u001b[49m\u001b[43maxes\u001b[49m\u001b[43m,\u001b[49m\u001b[43m \u001b[49m\u001b[43mthis\u001b[49m\u001b[43m,\u001b[49m\u001b[43m \u001b[49m\u001b[43mkwargs\u001b[49m\u001b[43m,\u001b[49m\u001b[43m \u001b[49m\u001b[43mambiguous_fmt_datakey\u001b[49m\u001b[38;5;241;43m=\u001b[39;49m\u001b[43mambiguous_fmt_datakey\u001b[49m\u001b[43m)\u001b[49m\n",
      "File \u001b[1;32m~\\AppData\\Local\\Programs\\Python\\Python312\\Lib\\site-packages\\matplotlib\\axes\\_base.py:499\u001b[0m, in \u001b[0;36m_process_plot_var_args._plot_args\u001b[1;34m(self, axes, tup, kwargs, return_kwargs, ambiguous_fmt_datakey)\u001b[0m\n\u001b[0;32m    496\u001b[0m     axes\u001b[38;5;241m.\u001b[39myaxis\u001b[38;5;241m.\u001b[39mupdate_units(y)\n\u001b[0;32m    498\u001b[0m \u001b[38;5;28;01mif\u001b[39;00m x\u001b[38;5;241m.\u001b[39mshape[\u001b[38;5;241m0\u001b[39m] \u001b[38;5;241m!=\u001b[39m y\u001b[38;5;241m.\u001b[39mshape[\u001b[38;5;241m0\u001b[39m]:\n\u001b[1;32m--> 499\u001b[0m     \u001b[38;5;28;01mraise\u001b[39;00m \u001b[38;5;167;01mValueError\u001b[39;00m(\u001b[38;5;124mf\u001b[39m\u001b[38;5;124m\"\u001b[39m\u001b[38;5;124mx and y must have same first dimension, but \u001b[39m\u001b[38;5;124m\"\u001b[39m\n\u001b[0;32m    500\u001b[0m                      \u001b[38;5;124mf\u001b[39m\u001b[38;5;124m\"\u001b[39m\u001b[38;5;124mhave shapes \u001b[39m\u001b[38;5;132;01m{\u001b[39;00mx\u001b[38;5;241m.\u001b[39mshape\u001b[38;5;132;01m}\u001b[39;00m\u001b[38;5;124m and \u001b[39m\u001b[38;5;132;01m{\u001b[39;00my\u001b[38;5;241m.\u001b[39mshape\u001b[38;5;132;01m}\u001b[39;00m\u001b[38;5;124m\"\u001b[39m)\n\u001b[0;32m    501\u001b[0m \u001b[38;5;28;01mif\u001b[39;00m x\u001b[38;5;241m.\u001b[39mndim \u001b[38;5;241m>\u001b[39m \u001b[38;5;241m2\u001b[39m \u001b[38;5;129;01mor\u001b[39;00m y\u001b[38;5;241m.\u001b[39mndim \u001b[38;5;241m>\u001b[39m \u001b[38;5;241m2\u001b[39m:\n\u001b[0;32m    502\u001b[0m     \u001b[38;5;28;01mraise\u001b[39;00m \u001b[38;5;167;01mValueError\u001b[39;00m(\u001b[38;5;124mf\u001b[39m\u001b[38;5;124m\"\u001b[39m\u001b[38;5;124mx and y can be no greater than 2D, but have \u001b[39m\u001b[38;5;124m\"\u001b[39m\n\u001b[0;32m    503\u001b[0m                      \u001b[38;5;124mf\u001b[39m\u001b[38;5;124m\"\u001b[39m\u001b[38;5;124mshapes \u001b[39m\u001b[38;5;132;01m{\u001b[39;00mx\u001b[38;5;241m.\u001b[39mshape\u001b[38;5;132;01m}\u001b[39;00m\u001b[38;5;124m and \u001b[39m\u001b[38;5;132;01m{\u001b[39;00my\u001b[38;5;241m.\u001b[39mshape\u001b[38;5;132;01m}\u001b[39;00m\u001b[38;5;124m\"\u001b[39m)\n",
      "\u001b[1;31mValueError\u001b[0m: x and y must have same first dimension, but have shapes (10,) and (5,)"
     ]
    },
    {
     "data": {
      "image/png": "[encoded data removed]",
      "text/plain": [
       "<Figure size 640x480 with 1 Axes>"
      ]
     },
     "metadata": {},
     "output_type": "display_data"
    }
   ],
   "source": [
    "epochs = [i for i in range(1,11)]\n",
    "plt.plot(epochs,training_history.history['accuracy'],color='red',label='Training Accuracy')\n",
    "plt.plot(epochs,training_history.history['val_accuracy'],color='blue',label='Validation Accuracy')\n",
    "plt.xlabel(\"No. of Epochs\")\n",
    "plt.ylabel(\"Accuracy Result\")\n",
    "plt.title(\"Visualization of Accuracy Result\")\n",
    "plt.legend()\n",
    "plt.show()"
   ]
  },
  {
   "cell_type": "code",
   "execution_count": 32,
   "id": "4fae1156-e1a7-4368-ae4e-e98f82f9d476",
   "metadata": {},
   "outputs": [
    {
     "data": {
      "text/plain": [
       "['Acne', 'Benign', 'Eczema', 'Enfeksiyon', 'Malignant', 'Pigment']"
      ]
     },
     "execution_count": 32,
     "metadata": {},
     "output_type": "execute_result"
    }
   ],
   "source": [
    "class_name = validation_set.class_names\n",
    "class_name"
   ]
  },
  {
   "cell_type": "code",
   "execution_count": 33,
   "id": "d9d77864-daf4-4645-b1bf-886c504e18a2",
   "metadata": {},
   "outputs": [
    {
     "name": "stdout",
     "output_type": "stream",
     "text": [
      "Found 3923 files belonging to 6 classes.\n"
     ]
    }
   ],
   "source": [
    "test_set =  tf.keras.utils.image_dataset_from_directory(\n",
    "    'val',\n",
    "    labels=\"inferred\",\n",
    "    label_mode=\"categorical\",\n",
    "    class_names=None,\n",
    "    color_mode=\"rgb\",\n",
    "    batch_size=32,\n",
    "    image_size=(128, 128),\n",
    "    shuffle=False,\n",
    "    seed=None,\n",
    "    validation_split=None,\n",
    "    subset=None,\n",
    "    interpolation=\"bilinear\",\n",
    "    follow_links=False,\n",
    "    crop_to_aspect_ratio=False,\n",
    "    pad_to_aspect_ratio=False,\n",
    "    data_format=None,\n",
    "    verbose=True,\n",
    ")"
   ]
  },
  {
   "cell_type": "code",
   "execution_count": 34,
   "id": "6b2f9f65-5c63-4572-ac69-c40986397d71",
   "metadata": {},
   "outputs": [
    {
     "name": "stdout",
     "output_type": "stream",
     "text": [
      "\u001b[1m123/123\u001b[0m \u001b[32m━━━━━━━━━━━━━━━━━━━━\u001b[0m\u001b[37m\u001b[0m \u001b[1m56s\u001b[0m 435ms/step\n"
     ]
    },
    {
     "data": {
      "text/plain": [
       "(array([[5.32380998e-01, 9.55332443e-03, 2.06715941e-01, 2.21052662e-01,\n",
       "         2.53213216e-02, 4.97572776e-03],\n",
       "        [6.88172817e-01, 2.86036711e-02, 8.19596350e-02, 1.33443773e-01,\n",
       "         5.82358241e-02, 9.58423316e-03],\n",
       "        [3.11448038e-01, 2.85669044e-02, 1.04157396e-01, 5.25089741e-01,\n",
       "         2.39238329e-02, 6.81407843e-03],\n",
       "        ...,\n",
       "        [9.21609223e-01, 4.45863436e-04, 3.54547948e-02, 1.77264921e-02,\n",
       "         7.58085225e-04, 2.40056012e-02],\n",
       "        [1.88486576e-01, 1.91037297e-01, 1.27205163e-01, 1.73847377e-01,\n",
       "         1.66784748e-01, 1.52638867e-01],\n",
       "        [2.08290979e-01, 1.99768059e-02, 1.88596155e-02, 2.24767812e-02,\n",
       "         1.49267232e-02, 7.15469003e-01]], dtype=float32),\n",
       " (3923, 6))"
      ]
     },
     "execution_count": 34,
     "metadata": {},
     "output_type": "execute_result"
    }
   ],
   "source": [
    "y_pred = model.predict(test_set)\n",
    "y_pred, y_pred.shape"
   ]
  },
  {
   "cell_type": "code",
   "execution_count": 35,
   "id": "5e8eceef-2632-41ce-8558-9513d2497eff",
   "metadata": {},
   "outputs": [],
   "source": [
    "predicted_categories = tf.argmax(y_pred,axis=1)"
   ]
  },
  {
   "cell_type": "code",
   "execution_count": 36,
   "id": "b2ab9380-46db-43f8-b188-0162c89780f5",
   "metadata": {},
   "outputs": [
    {
     "data": {
      "text/plain": [
       "<tf.Tensor: shape=(3923,), dtype=int64, numpy=array([0, 0, 3, ..., 0, 1, 5], dtype=int64)>"
      ]
     },
     "execution_count": 36,
     "metadata": {},
     "output_type": "execute_result"
    }
   ],
   "source": [
    "predicted_categories"
   ]
  },
  {
   "cell_type": "code",
   "execution_count": 37,
   "id": "517871b2-87db-4d32-ad2b-2b20622d164f",
   "metadata": {},
   "outputs": [
    {
     "data": {
      "text/plain": [
       "<tf.Tensor: shape=(3923, 6), dtype=float32, numpy=\n",
       "array([[1., 0., 0., 0., 0., 0.],\n",
       "       [1., 0., 0., 0., 0., 0.],\n",
       "       [1., 0., 0., 0., 0., 0.],\n",
       "       ...,\n",
       "       [0., 0., 0., 0., 0., 1.],\n",
       "       [0., 0., 0., 0., 0., 1.],\n",
       "       [0., 0., 0., 0., 0., 1.]], dtype=float32)>"
      ]
     },
     "execution_count": 37,
     "metadata": {},
     "output_type": "execute_result"
    }
   ],
   "source": [
    "true_categories = tf.concat([y for x,y in test_set], axis=0)\n",
    "true_categories"
   ]
  },
  {
   "cell_type": "code",
   "execution_count": 38,
   "id": "7d3675e2-ff41-4ce0-ad59-8b432c5d39c4",
   "metadata": {},
   "outputs": [
    {
     "data": {
      "text/plain": [
       "<tf.Tensor: shape=(3923,), dtype=int64, numpy=array([0, 0, 0, ..., 5, 5, 5], dtype=int64)>"
      ]
     },
     "execution_count": 38,
     "metadata": {},
     "output_type": "execute_result"
    }
   ],
   "source": [
    "Y_true = tf.argmax(true_categories,axis=1)\n",
    "Y_true"
   ]
  },
  {
   "cell_type": "code",
   "execution_count": 39,
   "id": "7d7f412e-7f24-46eb-aab3-814230092af7",
   "metadata": {},
   "outputs": [],
   "source": [
    "from sklearn.metrics import classification_report, confusion_matrix"
   ]
  },
  {
   "cell_type": "code",
   "execution_count": 40,
   "id": "d0150e0b-1cb4-4ae2-88cc-bc3d193101a6",
   "metadata": {},
   "outputs": [
    {
     "name": "stdout",
     "output_type": "stream",
     "text": [
      "              precision    recall  f1-score   support\n",
      "\n",
      "        Acne       0.64      0.68      0.66       322\n",
      "      Benign       0.83      0.71      0.77      1361\n",
      "      Eczema       0.58      0.70      0.64       508\n",
      "  Enfeksiyon       0.58      0.68      0.62       750\n",
      "   Malignant       0.68      0.68      0.68       847\n",
      "     Pigment       0.65      0.33      0.43       135\n",
      "\n",
      "    accuracy                           0.68      3923\n",
      "   macro avg       0.66      0.63      0.63      3923\n",
      "weighted avg       0.70      0.68      0.68      3923\n",
      "\n"
     ]
    }
   ],
   "source": [
    "print(classification_report(Y_true, predicted_categories, target_names=class_name))"
   ]
  },
  {
   "cell_type": "code",
   "execution_count": 41,
   "id": "457e850a-8223-4884-91a2-49d39ffb3735",
   "metadata": {},
   "outputs": [
    {
     "data": {
      "text/plain": [
       "array([[219,   8,  28,  46,  15,   6],\n",
       "       [ 17, 973,  24, 129, 216,   2],\n",
       "       [ 27,  13, 355,  92,  14,   7],\n",
       "       [ 47,  25, 140, 510,  20,   8],\n",
       "       [ 12, 146,  29,  80, 579,   1],\n",
       "       [ 20,   5,  31,  27,   8,  44]], dtype=int64)"
      ]
     },
     "execution_count": 41,
     "metadata": {},
     "output_type": "execute_result"
    }
   ],
   "source": [
    "cm = confusion_matrix(Y_true, predicted_categories)\n",
    "cm"
   ]
  },
  {
   "cell_type": "code",
   "execution_count": 42,
   "id": "b688b092-b46b-4ee4-9fe5-8cc129ec7ce8",
   "metadata": {},
   "outputs": [
    {
     "data": {
      "text/plain": [
       "<function matplotlib.pyplot.show(close=None, block=None)>"
      ]
     },
     "execution_count": 42,
     "metadata": {},
     "output_type": "execute_result"
    },
    {
     "data": {
      "image/png": "[encoded data removed]",
      "text/plain": [
       "<Figure size 4000x4000 with 2 Axes>"
      ]
     },
     "metadata": {},
     "output_type": "display_data"
    }
   ],
   "source": [
    "plt.figure(figsize=(40,40))\n",
    "sns.heatmap(cm, annot=True, annot_kws={'size':10})\n",
    "plt.xlabel(\"Predicted Class\", fontsize=25)\n",
    "plt.ylabel(\"Actual Class\", fontsize=25)\n",
    "plt.title(\"Skin Disease Recognition Matrix\",fontsize=35)\n",
    "plt.show"
   ]
  },
  {
   "cell_type": "code",
   "execution_count": null,
   "id": "a1e74861-0d3a-4cf4-aea5-1e8f9d3a7c7a",
   "metadata": {},
   "outputs": [],
   "source": []
  }
 ],
 "metadata": {
  "kernelspec": {
   "display_name": "Python 3 (ipykernel)",
   "language": "python",
   "name": "python3"
  },
  "language_info": {
   "codemirror_mode": {
    "name": "ipython",
    "version": 3
   },
   "file_extension": ".py",
   "mimetype": "text/x-python",
   "name": "python",
   "nbconvert_exporter": "python",
   "pygments_lexer": "ipython3",
   "version": "3.12.2"
  }
 },
 "nbformat": 4,
 "nbformat_minor": 5
}
